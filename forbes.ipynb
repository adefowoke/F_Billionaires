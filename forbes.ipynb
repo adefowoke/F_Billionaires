{
 "cells": [
  {
   "cell_type": "markdown",
   "metadata": {
    "collapsed": true
   },
   "source": [
    "## EXPLORATORY DATA ANALYSIS OF FORBES 2017 LIST OF WORLD'S BILLIONAIRES"
   ]
  },
  {
   "cell_type": "markdown",
   "metadata": {},
   "source": [
    "### Import Libraries"
   ]
  },
  {
   "cell_type": "code",
   "execution_count": 0,
   "metadata": {
    "pycharm": {
     "is_executing": false
    }
   },
   "outputs": [],
   "source": []
  },
  {
   "cell_type": "code",
   "execution_count": 1,
   "metadata": {
    "pycharm": {
     "is_executing": false,
     "name": "#%%\n"
    }
   },
   "outputs": [],
   "source": [
    "%matplotlib inline\n",
    "import matplotlib.pyplot as plt\n",
    "import pandas as pd\n",
    "import seaborn as sns\n",
    "import plotly.express as px\n",
    "import plotly.graph_objects as go\n",
    "\n",
    "sns.set()\n",
    "import warnings\n",
    "warnings.filterwarnings('ignore') \n"
   ]
  },
  {
   "cell_type": "code",
   "execution_count": 2,
   "metadata": {
    "pycharm": {
     "is_executing": false
    }
   },
   "outputs": [],
   "source": [
    "plt.rcParams[\"figure.figsize\"] = [10.00, 5.50]\n",
    "plt.rcParams[\"figure.autolayout\"] = True"
   ]
  },
  {
   "cell_type": "markdown",
   "metadata": {},
   "source": [
    "### Get an overview of what the dataset entails"
   ]
  },
  {
   "cell_type": "code",
   "execution_count": 3,
   "metadata": {
    "pycharm": {
     "is_executing": false
    }
   },
   "outputs": [],
   "source": [
    "f_b = pd.read_csv('Forbes Worlds Billionaires.csv')"
   ]
  },
  {
   "cell_type": "code",
   "execution_count": 4,
   "metadata": {
    "pycharm": {
     "is_executing": false
    }
   },
   "outputs": [
    {
     "data": {
      "text/plain": "   Rank            Name   Age              Source                 Industry  \\\n0   1.0      Jeff Bezos  54.0              Amazon               Technology   \n1   2.0      Bill Gates  62.0           Microsoft               Technology   \n2   3.0  Warren Buffett  87.0  Berkshire Hathaway  Finance and Investments   \n\n  Gender      Continent        Country Headquarters       State  Net Worth  \\\n0   Male  North America  United States           WA  Washington      112.0   \n1   Male  North America  United States           WA  Washington       90.0   \n2   Male  North America  United States           NE    Nebraska       84.0   \n\n                                        Title  \n0                 CEO and Founder, Amazon.com  \n1  Cofounder, Bill & Melinda Gates Foundation  \n2                     CEO, Berkshire Hathaway  ",
      "text/html": "<div>\n<style scoped>\n    .dataframe tbody tr th:only-of-type {\n        vertical-align: middle;\n    }\n\n    .dataframe tbody tr th {\n        vertical-align: top;\n    }\n\n    .dataframe thead th {\n        text-align: right;\n    }\n</style>\n<table border=\"1\" class=\"dataframe\">\n  <thead>\n    <tr style=\"text-align: right;\">\n      <th></th>\n      <th>Rank</th>\n      <th>Name</th>\n      <th>Age</th>\n      <th>Source</th>\n      <th>Industry</th>\n      <th>Gender</th>\n      <th>Continent</th>\n      <th>Country</th>\n      <th>Headquarters</th>\n      <th>State</th>\n      <th>Net Worth</th>\n      <th>Title</th>\n    </tr>\n  </thead>\n  <tbody>\n    <tr>\n      <th>0</th>\n      <td>1.0</td>\n      <td>Jeff Bezos</td>\n      <td>54.0</td>\n      <td>Amazon</td>\n      <td>Technology</td>\n      <td>Male</td>\n      <td>North America</td>\n      <td>United States</td>\n      <td>WA</td>\n      <td>Washington</td>\n      <td>112.0</td>\n      <td>CEO and Founder, Amazon.com</td>\n    </tr>\n    <tr>\n      <th>1</th>\n      <td>2.0</td>\n      <td>Bill Gates</td>\n      <td>62.0</td>\n      <td>Microsoft</td>\n      <td>Technology</td>\n      <td>Male</td>\n      <td>North America</td>\n      <td>United States</td>\n      <td>WA</td>\n      <td>Washington</td>\n      <td>90.0</td>\n      <td>Cofounder, Bill &amp; Melinda Gates Foundation</td>\n    </tr>\n    <tr>\n      <th>2</th>\n      <td>3.0</td>\n      <td>Warren Buffett</td>\n      <td>87.0</td>\n      <td>Berkshire Hathaway</td>\n      <td>Finance and Investments</td>\n      <td>Male</td>\n      <td>North America</td>\n      <td>United States</td>\n      <td>NE</td>\n      <td>Nebraska</td>\n      <td>84.0</td>\n      <td>CEO, Berkshire Hathaway</td>\n    </tr>\n  </tbody>\n</table>\n</div>"
     },
     "metadata": {},
     "output_type": "execute_result",
     "execution_count": 4
    }
   ],
   "source": [
    "f_b.head(3)"
   ]
  },
  {
   "cell_type": "code",
   "execution_count": 5,
   "metadata": {
    "pycharm": {
     "is_executing": false
    }
   },
   "outputs": [
    {
     "data": {
      "text/plain": "      Rank                      Name   Age                   Source  \\\n2255   NaN  Zhang Zhongneng & family  54.0                 aluminum   \n2256   NaN      Zhou Yifeng & family  39.0  liquefied petroleum gas   \n\n           Industry  Gender Continent Country Headquarters      State  \\\n2255  Manufacturing    Male      Asia   China          NaN  Guangdong   \n2256         Energy  Female      Asia   China          NaN    Jiangsu   \n\n      Net Worth Title  \n2255        NaN   NaN  \n2256        NaN   NaN  ",
      "text/html": "<div>\n<style scoped>\n    .dataframe tbody tr th:only-of-type {\n        vertical-align: middle;\n    }\n\n    .dataframe tbody tr th {\n        vertical-align: top;\n    }\n\n    .dataframe thead th {\n        text-align: right;\n    }\n</style>\n<table border=\"1\" class=\"dataframe\">\n  <thead>\n    <tr style=\"text-align: right;\">\n      <th></th>\n      <th>Rank</th>\n      <th>Name</th>\n      <th>Age</th>\n      <th>Source</th>\n      <th>Industry</th>\n      <th>Gender</th>\n      <th>Continent</th>\n      <th>Country</th>\n      <th>Headquarters</th>\n      <th>State</th>\n      <th>Net Worth</th>\n      <th>Title</th>\n    </tr>\n  </thead>\n  <tbody>\n    <tr>\n      <th>2255</th>\n      <td>NaN</td>\n      <td>Zhang Zhongneng &amp; family</td>\n      <td>54.0</td>\n      <td>aluminum</td>\n      <td>Manufacturing</td>\n      <td>Male</td>\n      <td>Asia</td>\n      <td>China</td>\n      <td>NaN</td>\n      <td>Guangdong</td>\n      <td>NaN</td>\n      <td>NaN</td>\n    </tr>\n    <tr>\n      <th>2256</th>\n      <td>NaN</td>\n      <td>Zhou Yifeng &amp; family</td>\n      <td>39.0</td>\n      <td>liquefied petroleum gas</td>\n      <td>Energy</td>\n      <td>Female</td>\n      <td>Asia</td>\n      <td>China</td>\n      <td>NaN</td>\n      <td>Jiangsu</td>\n      <td>NaN</td>\n      <td>NaN</td>\n    </tr>\n  </tbody>\n</table>\n</div>"
     },
     "metadata": {},
     "output_type": "execute_result",
     "execution_count": 5
    }
   ],
   "source": [
    "f_b.tail(2)"
   ]
  },
  {
   "cell_type": "code",
   "execution_count": 6,
   "metadata": {
    "pycharm": {
     "is_executing": false
    }
   },
   "outputs": [
    {
     "data": {
      "text/plain": "(2257, 12)"
     },
     "metadata": {},
     "output_type": "execute_result",
     "execution_count": 6
    }
   ],
   "source": [
    "f_b.shape"
   ]
  },
  {
   "cell_type": "code",
   "execution_count": 7,
   "metadata": {
    "pycharm": {
     "is_executing": false
    }
   },
   "outputs": [
    {
     "data": {
      "text/plain": "Rank            float64\nName             object\nAge             float64\nSource           object\nIndustry         object\nGender           object\nContinent        object\nCountry          object\nHeadquarters     object\nState            object\nNet Worth       float64\nTitle            object\ndtype: object"
     },
     "metadata": {},
     "output_type": "execute_result",
     "execution_count": 7
    }
   ],
   "source": [
    "f_b.dtypes"
   ]
  },
  {
   "cell_type": "code",
   "execution_count": 7,
   "metadata": {
    "pycharm": {
     "is_executing": false
    }
   },
   "outputs": [],
   "source": []
  },
  {
   "cell_type": "markdown",
   "metadata": {},
   "source": [
    "## Work on missing values"
   ]
  },
  {
   "cell_type": "code",
   "execution_count": 8,
   "metadata": {
    "pycharm": {
     "is_executing": false
    }
   },
   "outputs": [
    {
     "data": {
      "text/plain": "Rank              49\nName               0\nAge               72\nSource             0\nIndustry           0\nGender            17\nContinent         27\nCountry            0\nHeadquarters    1663\nState           1651\nNet Worth         49\nTitle           1910\ndtype: int64"
     },
     "metadata": {},
     "output_type": "execute_result",
     "execution_count": 8
    }
   ],
   "source": [
    "f_b.isna().sum()"
   ]
  },
  {
   "cell_type": "markdown",
   "metadata": {},
   "source": [
    "### Get the missing values of each column in percentages"
   ]
  },
  {
   "cell_type": "code",
   "execution_count": 9,
   "metadata": {
    "pycharm": {
     "is_executing": false
    }
   },
   "outputs": [
    {
     "data": {
      "text/plain": "Rank             2.171023\nName             0.000000\nAge              3.190075\nSource           0.000000\nIndustry         0.000000\nGender           0.753212\nContinent        1.196278\nCountry          0.000000\nHeadquarters    73.681879\nState           73.150199\nNet Worth        2.171023\nTitle           84.625609\ndtype: float64"
     },
     "metadata": {},
     "output_type": "execute_result",
     "execution_count": 9
    }
   ],
   "source": [
    "(f_b.isna().sum()/len(f_b))*100"
   ]
  },
  {
   "cell_type": "markdown",
   "metadata": {},
   "source": [
    "### The above analysis shows more than half of the data in column : Title, State and Headquarters are missing. For this reason I would be dropping the columns as the missing dataset is too big to fill in"
   ]
  },
  {
   "cell_type": "code",
   "execution_count": 10,
   "metadata": {
    "pycharm": {
     "is_executing": false
    }
   },
   "outputs": [],
   "source": [
    "f_b1 = f_b.drop(columns=['Title','State','Headquarters'])"
   ]
  },
  {
   "cell_type": "code",
   "execution_count": 11,
   "metadata": {
    "pycharm": {
     "is_executing": false
    }
   },
   "outputs": [
    {
     "data": {
      "text/plain": "(2257, 9)"
     },
     "metadata": {},
     "output_type": "execute_result",
     "execution_count": 11
    }
   ],
   "source": [
    "f_b1.shape"
   ]
  },
  {
   "cell_type": "markdown",
   "metadata": {},
   "source": [
    "### Get the first 100  ranks, as that is what i would work on later, but would like to do some data cleaning on the entire datase"
   ]
  },
  {
   "cell_type": "code",
   "execution_count": 12,
   "metadata": {
    "pycharm": {
     "is_executing": false
    }
   },
   "outputs": [],
   "source": [
    "f_b100 = f_b1[:100]"
   ]
  },
  {
   "cell_type": "code",
   "execution_count": 13,
   "metadata": {
    "pycharm": {
     "is_executing": false
    }
   },
   "outputs": [
    {
     "data": {
      "text/plain": "(100, 9)"
     },
     "metadata": {},
     "output_type": "execute_result",
     "execution_count": 13
    }
   ],
   "source": [
    "f_b100.shape"
   ]
  },
  {
   "cell_type": "markdown",
   "metadata": {},
   "source": [
    "### check for any missing values in f_b100"
   ]
  },
  {
   "cell_type": "code",
   "execution_count": 14,
   "metadata": {
    "pycharm": {
     "is_executing": false
    }
   },
   "outputs": [
    {
     "data": {
      "text/plain": "Rank         0\nName         0\nAge          3\nSource       0\nIndustry     0\nGender       1\nContinent    0\nCountry      0\nNet Worth    0\ndtype: int64"
     },
     "metadata": {},
     "output_type": "execute_result",
     "execution_count": 14
    }
   ],
   "source": [
    "f_b100.isna().sum()"
   ]
  },
  {
   "cell_type": "code",
   "execution_count": 15,
   "metadata": {
    "pycharm": {
     "is_executing": false
    }
   },
   "outputs": [
    {
     "data": {
      "text/plain": "    Rank                               Name   Age                    Source  \\\n26  27.0  Beate Heister & Karl Albrecht Jr.  66.0              supermarkets   \n54  55.0                     Hinduja family   NaN               diversified   \n76  77.0              Thomas & Raymond Kwok   NaN               real estate   \n89  88.0               David & Simon Reuben   NaN  investments, real estate   \n\n            Industry Gender Continent         Country  Net Worth  \n26  Fashion & Retail    NaN    Europe         Germany       29.8  \n54       Diversified   Male    Europe  United Kingdom       19.5  \n76       Real Estate   Male      Asia       Hong Kong       16.5  \n89       Real Estate   Male    Europe  United Kingdom       15.5  ",
      "text/html": "<div>\n<style scoped>\n    .dataframe tbody tr th:only-of-type {\n        vertical-align: middle;\n    }\n\n    .dataframe tbody tr th {\n        vertical-align: top;\n    }\n\n    .dataframe thead th {\n        text-align: right;\n    }\n</style>\n<table border=\"1\" class=\"dataframe\">\n  <thead>\n    <tr style=\"text-align: right;\">\n      <th></th>\n      <th>Rank</th>\n      <th>Name</th>\n      <th>Age</th>\n      <th>Source</th>\n      <th>Industry</th>\n      <th>Gender</th>\n      <th>Continent</th>\n      <th>Country</th>\n      <th>Net Worth</th>\n    </tr>\n  </thead>\n  <tbody>\n    <tr>\n      <th>26</th>\n      <td>27.0</td>\n      <td>Beate Heister &amp; Karl Albrecht Jr.</td>\n      <td>66.0</td>\n      <td>supermarkets</td>\n      <td>Fashion &amp; Retail</td>\n      <td>NaN</td>\n      <td>Europe</td>\n      <td>Germany</td>\n      <td>29.8</td>\n    </tr>\n    <tr>\n      <th>54</th>\n      <td>55.0</td>\n      <td>Hinduja family</td>\n      <td>NaN</td>\n      <td>diversified</td>\n      <td>Diversified</td>\n      <td>Male</td>\n      <td>Europe</td>\n      <td>United Kingdom</td>\n      <td>19.5</td>\n    </tr>\n    <tr>\n      <th>76</th>\n      <td>77.0</td>\n      <td>Thomas &amp; Raymond Kwok</td>\n      <td>NaN</td>\n      <td>real estate</td>\n      <td>Real Estate</td>\n      <td>Male</td>\n      <td>Asia</td>\n      <td>Hong Kong</td>\n      <td>16.5</td>\n    </tr>\n    <tr>\n      <th>89</th>\n      <td>88.0</td>\n      <td>David &amp; Simon Reuben</td>\n      <td>NaN</td>\n      <td>investments, real estate</td>\n      <td>Real Estate</td>\n      <td>Male</td>\n      <td>Europe</td>\n      <td>United Kingdom</td>\n      <td>15.5</td>\n    </tr>\n  </tbody>\n</table>\n</div>"
     },
     "metadata": {},
     "output_type": "execute_result",
     "execution_count": 15
    }
   ],
   "source": [
    "f_b100[f_b100.isna().any(axis=1)]"
   ]
  },
  {
   "cell_type": "markdown",
   "metadata": {},
   "source": [
    "### change the dtype of Rank and  Age  to int, but since Age column as NAN, the conversion will throw an error. Thus the need to manipulate the NAN in Age column. Will use the mean value of age in the coresponding continent and use the most frequent gender in the corresponding continent"
   ]
  },
  {
   "cell_type": "markdown",
   "metadata": {},
   "source": [
    "### Select only rows with continent == 'Europe'"
   ]
  },
  {
   "cell_type": "code",
   "execution_count": 16,
   "metadata": {
    "pycharm": {
     "is_executing": false
    }
   },
   "outputs": [],
   "source": [
    "f_b100EU = f_b100[f_b100['Continent'] == 'Europe']"
   ]
  },
  {
   "cell_type": "code",
   "execution_count": 17,
   "metadata": {
    "pycharm": {
     "is_executing": false
    }
   },
   "outputs": [
    {
     "data": {
      "text/plain": "count    21.000000\nmean     68.142857\nstd      13.062487\nmin      47.000000\n25%      55.000000\n50%      67.000000\n75%      80.000000\nmax      92.000000\nName: Age, dtype: float64"
     },
     "metadata": {},
     "output_type": "execute_result",
     "execution_count": 17
    }
   ],
   "source": [
    "f_b100EU['Age'].describe()"
   ]
  },
  {
   "cell_type": "code",
   "execution_count": 18,
   "metadata": {
    "pycharm": {
     "is_executing": false
    }
   },
   "outputs": [
    {
     "data": {
      "text/plain": "count       22\nunique       2\ntop       Male\nfreq        19\nName: Gender, dtype: object"
     },
     "metadata": {},
     "output_type": "execute_result",
     "execution_count": 18
    }
   ],
   "source": [
    "f_b100EU['Gender'].describe()"
   ]
  },
  {
   "cell_type": "code",
   "execution_count": 19,
   "metadata": {
    "pycharm": {
     "is_executing": false
    }
   },
   "outputs": [
    {
     "data": {
      "text/plain": "['Male', 'Female', nan]"
     },
     "metadata": {},
     "output_type": "execute_result",
     "execution_count": 19
    }
   ],
   "source": [
    "f_b100EU['Gender'].unique().tolist()"
   ]
  },
  {
   "cell_type": "code",
   "execution_count": 20,
   "metadata": {
    "pycharm": {
     "is_executing": false
    }
   },
   "outputs": [],
   "source": [
    "f_b100EU['Gender'] = f_b100EU['Gender'].fillna('Male') "
   ]
  },
  {
   "cell_type": "code",
   "execution_count": 21,
   "metadata": {
    "pycharm": {
     "is_executing": false
    }
   },
   "outputs": [],
   "source": [
    "f_b100EU['Age'] = f_b100EU['Age'].fillna(68.0)"
   ]
  },
  {
   "cell_type": "markdown",
   "metadata": {},
   "source": [
    "### Re-insert the subset into the f_b100 dataframe"
   ]
  },
  {
   "cell_type": "code",
   "execution_count": 22,
   "metadata": {
    "pycharm": {
     "is_executing": false
    }
   },
   "outputs": [],
   "source": [
    "f_b100[f_b100['Continent'] == 'Europe'] = f_b100EU"
   ]
  },
  {
   "cell_type": "markdown",
   "metadata": {},
   "source": [
    "### Select only rows with continent == 'Asia'"
   ]
  },
  {
   "cell_type": "code",
   "execution_count": 23,
   "metadata": {
    "pycharm": {
     "is_executing": false
    }
   },
   "outputs": [
    {
     "data": {
      "text/plain": "    Rank                       Name   Age                        Source  \\\n16  17.0                 Ma Huateng  46.0                internet media   \n18  19.0              Mukesh Ambani  60.0     petrochemicals, oil & gas   \n19  20.0                    Jack Ma  53.0                    e-commerce   \n22  23.0                Li Ka-shing  89.0                   diversified   \n23  24.0                 Hui Ka Yan  59.0                   real estate   \n24  24.0               Lee Shau Kee  90.0                   real estate   \n25  26.0               Wang Jianlin  63.0                   real estate   \n39  39.0              Masayoshi Son  60.0             internet, telecom   \n42  43.0                Yang Huiyan  36.0                   real estate   \n49  50.0               He Xiangjian  75.0               home appliances   \n50  50.0                Lui Che Woo  88.0                       casinos   \n52  52.0                   Henry Sy  93.0                   diversified   \n55  55.0              Tadashi Yanai  69.0                fashion retail   \n56  57.0             Vladimir Lisin  61.0              steel, transport   \n58  58.0                Azim Premji  72.0             software services   \n59  60.0           Alexey Mordashov  52.0            steel, investments   \n60  61.0                Lee Kun-Hee  76.0                       Samsung   \n61  62.0             Lakshmi Mittal  67.0                         steel   \n62  63.0                   Wang Wei  48.0              package delivery   \n63  64.0           Leonid Mikhelson  62.0                gas, chemicals   \n64  65.0  Charoen Sirivadhanabhakdi  73.0           drinks, real estate   \n67  68.0         Takemitsu Takizaki  72.0                       sensors   \n68  69.0               William Ding  46.0                  online games   \n69  69.0            R. Budi Hartono  77.0              banking, tobacco   \n74  75.0            Michael Hartono  78.0              banking, tobacco   \n75  75.0                 Joseph Lau  66.0                   real estate   \n76  77.0      Thomas & Raymond Kwok   NaN                   real estate   \n77  78.0            Vagit Alekperov  67.0                           oil   \n81  82.0          Gennady Timchenko  65.0                      oil, gas   \n83  83.0           Vladimir Potanin  57.0                        metals   \n86  87.0              Zhang Zhidong  46.0                internet media   \n88  88.0         Andrey Melnichenko  46.0             coal, fertilizers   \n91  91.0                   Li Shufu  54.0                   automobiles   \n92  93.0            Mikhail Fridman  53.0         oil, banking, telecom   \n94  95.0        Dhanin Chearavanont  78.0                   diversified   \n95  96.0                Robert Kuok  94.0  palm oil, shipping, property   \n97  98.0                 Shiv Nadar  72.0             software services   \n98  99.0          Viktor Vekselberg  60.0                metals, energy   \n\n                   Industry  Gender Continent      Country  Net Worth  \n16               Technology    Male      Asia        China       45.3  \n18                   Energy    Male      Asia        India       40.1  \n19               Technology    Male      Asia        China       39.0  \n22              Diversified    Male      Asia    Hong Kong       34.9  \n23              Real Estate    Male      Asia        China       30.3  \n24              Real Estate    Male      Asia    Hong Kong       30.3  \n25              Real Estate    Male      Asia        China       30.0  \n39                  Telecom    Male      Asia        Japan       22.7  \n42              Real Estate  Female      Asia        China       21.9  \n49            Manufacturing    Male      Asia        China       20.1  \n50       Gambling & Casinos    Male      Asia    Hong Kong       20.1  \n52              Diversified    Male      Asia  Philippines       20.0  \n55         Fashion & Retail    Male      Asia        Japan       19.5  \n56          Metals & Mining    Male      Asia       Russia       19.1  \n58               Technology    Male      Asia        India       18.8  \n59          Metals & Mining    Male      Asia       Russia       18.7  \n60              Diversified    Male      Asia  South Korea       18.6  \n61          Metals & Mining    Male      Asia        India       18.5  \n62                  Service    Male      Asia        China       18.2  \n63                   Energy    Male      Asia       Russia       18.0  \n64        Food and Beverage    Male      Asia     Thailand       17.9  \n67            Manufacturing    Male      Asia        Japan       17.5  \n68               Technology    Male      Asia        China       17.4  \n69  Finance and Investments    Male      Asia    Indonesia       17.4  \n74            Manufacturing    Male      Asia    Indonesia       16.7  \n75              Real Estate    Male      Asia    Hong Kong       16.7  \n76              Real Estate    Male      Asia    Hong Kong       16.5  \n77                   Energy    Male      Asia       Russia       16.4  \n81                   Energy    Male      Asia       Russia       16.0  \n83          Metals & Mining    Male      Asia       Russia       15.9  \n86               Technology    Male      Asia        China       15.6  \n88                   Energy    Male      Asia       Russia       15.5  \n91               Automotive    Male      Asia        China       15.3  \n92                   Energy    Male      Asia       Russia       15.1  \n94              Diversified    Male      Asia     Thailand       14.9  \n95              Diversified    Male      Asia     Malaysia       14.8  \n97               Technology    Male      Asia        India       14.6  \n98                   Energy    Male      Asia       Russia       14.4  ",
      "text/html": "<div>\n<style scoped>\n    .dataframe tbody tr th:only-of-type {\n        vertical-align: middle;\n    }\n\n    .dataframe tbody tr th {\n        vertical-align: top;\n    }\n\n    .dataframe thead th {\n        text-align: right;\n    }\n</style>\n<table border=\"1\" class=\"dataframe\">\n  <thead>\n    <tr style=\"text-align: right;\">\n      <th></th>\n      <th>Rank</th>\n      <th>Name</th>\n      <th>Age</th>\n      <th>Source</th>\n      <th>Industry</th>\n      <th>Gender</th>\n      <th>Continent</th>\n      <th>Country</th>\n      <th>Net Worth</th>\n    </tr>\n  </thead>\n  <tbody>\n    <tr>\n      <th>16</th>\n      <td>17.0</td>\n      <td>Ma Huateng</td>\n      <td>46.0</td>\n      <td>internet media</td>\n      <td>Technology</td>\n      <td>Male</td>\n      <td>Asia</td>\n      <td>China</td>\n      <td>45.3</td>\n    </tr>\n    <tr>\n      <th>18</th>\n      <td>19.0</td>\n      <td>Mukesh Ambani</td>\n      <td>60.0</td>\n      <td>petrochemicals, oil &amp; gas</td>\n      <td>Energy</td>\n      <td>Male</td>\n      <td>Asia</td>\n      <td>India</td>\n      <td>40.1</td>\n    </tr>\n    <tr>\n      <th>19</th>\n      <td>20.0</td>\n      <td>Jack Ma</td>\n      <td>53.0</td>\n      <td>e-commerce</td>\n      <td>Technology</td>\n      <td>Male</td>\n      <td>Asia</td>\n      <td>China</td>\n      <td>39.0</td>\n    </tr>\n    <tr>\n      <th>22</th>\n      <td>23.0</td>\n      <td>Li Ka-shing</td>\n      <td>89.0</td>\n      <td>diversified</td>\n      <td>Diversified</td>\n      <td>Male</td>\n      <td>Asia</td>\n      <td>Hong Kong</td>\n      <td>34.9</td>\n    </tr>\n    <tr>\n      <th>23</th>\n      <td>24.0</td>\n      <td>Hui Ka Yan</td>\n      <td>59.0</td>\n      <td>real estate</td>\n      <td>Real Estate</td>\n      <td>Male</td>\n      <td>Asia</td>\n      <td>China</td>\n      <td>30.3</td>\n    </tr>\n    <tr>\n      <th>24</th>\n      <td>24.0</td>\n      <td>Lee Shau Kee</td>\n      <td>90.0</td>\n      <td>real estate</td>\n      <td>Real Estate</td>\n      <td>Male</td>\n      <td>Asia</td>\n      <td>Hong Kong</td>\n      <td>30.3</td>\n    </tr>\n    <tr>\n      <th>25</th>\n      <td>26.0</td>\n      <td>Wang Jianlin</td>\n      <td>63.0</td>\n      <td>real estate</td>\n      <td>Real Estate</td>\n      <td>Male</td>\n      <td>Asia</td>\n      <td>China</td>\n      <td>30.0</td>\n    </tr>\n    <tr>\n      <th>39</th>\n      <td>39.0</td>\n      <td>Masayoshi Son</td>\n      <td>60.0</td>\n      <td>internet, telecom</td>\n      <td>Telecom</td>\n      <td>Male</td>\n      <td>Asia</td>\n      <td>Japan</td>\n      <td>22.7</td>\n    </tr>\n    <tr>\n      <th>42</th>\n      <td>43.0</td>\n      <td>Yang Huiyan</td>\n      <td>36.0</td>\n      <td>real estate</td>\n      <td>Real Estate</td>\n      <td>Female</td>\n      <td>Asia</td>\n      <td>China</td>\n      <td>21.9</td>\n    </tr>\n    <tr>\n      <th>49</th>\n      <td>50.0</td>\n      <td>He Xiangjian</td>\n      <td>75.0</td>\n      <td>home appliances</td>\n      <td>Manufacturing</td>\n      <td>Male</td>\n      <td>Asia</td>\n      <td>China</td>\n      <td>20.1</td>\n    </tr>\n    <tr>\n      <th>50</th>\n      <td>50.0</td>\n      <td>Lui Che Woo</td>\n      <td>88.0</td>\n      <td>casinos</td>\n      <td>Gambling &amp; Casinos</td>\n      <td>Male</td>\n      <td>Asia</td>\n      <td>Hong Kong</td>\n      <td>20.1</td>\n    </tr>\n    <tr>\n      <th>52</th>\n      <td>52.0</td>\n      <td>Henry Sy</td>\n      <td>93.0</td>\n      <td>diversified</td>\n      <td>Diversified</td>\n      <td>Male</td>\n      <td>Asia</td>\n      <td>Philippines</td>\n      <td>20.0</td>\n    </tr>\n    <tr>\n      <th>55</th>\n      <td>55.0</td>\n      <td>Tadashi Yanai</td>\n      <td>69.0</td>\n      <td>fashion retail</td>\n      <td>Fashion &amp; Retail</td>\n      <td>Male</td>\n      <td>Asia</td>\n      <td>Japan</td>\n      <td>19.5</td>\n    </tr>\n    <tr>\n      <th>56</th>\n      <td>57.0</td>\n      <td>Vladimir Lisin</td>\n      <td>61.0</td>\n      <td>steel, transport</td>\n      <td>Metals &amp; Mining</td>\n      <td>Male</td>\n      <td>Asia</td>\n      <td>Russia</td>\n      <td>19.1</td>\n    </tr>\n    <tr>\n      <th>58</th>\n      <td>58.0</td>\n      <td>Azim Premji</td>\n      <td>72.0</td>\n      <td>software services</td>\n      <td>Technology</td>\n      <td>Male</td>\n      <td>Asia</td>\n      <td>India</td>\n      <td>18.8</td>\n    </tr>\n    <tr>\n      <th>59</th>\n      <td>60.0</td>\n      <td>Alexey Mordashov</td>\n      <td>52.0</td>\n      <td>steel, investments</td>\n      <td>Metals &amp; Mining</td>\n      <td>Male</td>\n      <td>Asia</td>\n      <td>Russia</td>\n      <td>18.7</td>\n    </tr>\n    <tr>\n      <th>60</th>\n      <td>61.0</td>\n      <td>Lee Kun-Hee</td>\n      <td>76.0</td>\n      <td>Samsung</td>\n      <td>Diversified</td>\n      <td>Male</td>\n      <td>Asia</td>\n      <td>South Korea</td>\n      <td>18.6</td>\n    </tr>\n    <tr>\n      <th>61</th>\n      <td>62.0</td>\n      <td>Lakshmi Mittal</td>\n      <td>67.0</td>\n      <td>steel</td>\n      <td>Metals &amp; Mining</td>\n      <td>Male</td>\n      <td>Asia</td>\n      <td>India</td>\n      <td>18.5</td>\n    </tr>\n    <tr>\n      <th>62</th>\n      <td>63.0</td>\n      <td>Wang Wei</td>\n      <td>48.0</td>\n      <td>package delivery</td>\n      <td>Service</td>\n      <td>Male</td>\n      <td>Asia</td>\n      <td>China</td>\n      <td>18.2</td>\n    </tr>\n    <tr>\n      <th>63</th>\n      <td>64.0</td>\n      <td>Leonid Mikhelson</td>\n      <td>62.0</td>\n      <td>gas, chemicals</td>\n      <td>Energy</td>\n      <td>Male</td>\n      <td>Asia</td>\n      <td>Russia</td>\n      <td>18.0</td>\n    </tr>\n    <tr>\n      <th>64</th>\n      <td>65.0</td>\n      <td>Charoen Sirivadhanabhakdi</td>\n      <td>73.0</td>\n      <td>drinks, real estate</td>\n      <td>Food and Beverage</td>\n      <td>Male</td>\n      <td>Asia</td>\n      <td>Thailand</td>\n      <td>17.9</td>\n    </tr>\n    <tr>\n      <th>67</th>\n      <td>68.0</td>\n      <td>Takemitsu Takizaki</td>\n      <td>72.0</td>\n      <td>sensors</td>\n      <td>Manufacturing</td>\n      <td>Male</td>\n      <td>Asia</td>\n      <td>Japan</td>\n      <td>17.5</td>\n    </tr>\n    <tr>\n      <th>68</th>\n      <td>69.0</td>\n      <td>William Ding</td>\n      <td>46.0</td>\n      <td>online games</td>\n      <td>Technology</td>\n      <td>Male</td>\n      <td>Asia</td>\n      <td>China</td>\n      <td>17.4</td>\n    </tr>\n    <tr>\n      <th>69</th>\n      <td>69.0</td>\n      <td>R. Budi Hartono</td>\n      <td>77.0</td>\n      <td>banking, tobacco</td>\n      <td>Finance and Investments</td>\n      <td>Male</td>\n      <td>Asia</td>\n      <td>Indonesia</td>\n      <td>17.4</td>\n    </tr>\n    <tr>\n      <th>74</th>\n      <td>75.0</td>\n      <td>Michael Hartono</td>\n      <td>78.0</td>\n      <td>banking, tobacco</td>\n      <td>Manufacturing</td>\n      <td>Male</td>\n      <td>Asia</td>\n      <td>Indonesia</td>\n      <td>16.7</td>\n    </tr>\n    <tr>\n      <th>75</th>\n      <td>75.0</td>\n      <td>Joseph Lau</td>\n      <td>66.0</td>\n      <td>real estate</td>\n      <td>Real Estate</td>\n      <td>Male</td>\n      <td>Asia</td>\n      <td>Hong Kong</td>\n      <td>16.7</td>\n    </tr>\n    <tr>\n      <th>76</th>\n      <td>77.0</td>\n      <td>Thomas &amp; Raymond Kwok</td>\n      <td>NaN</td>\n      <td>real estate</td>\n      <td>Real Estate</td>\n      <td>Male</td>\n      <td>Asia</td>\n      <td>Hong Kong</td>\n      <td>16.5</td>\n    </tr>\n    <tr>\n      <th>77</th>\n      <td>78.0</td>\n      <td>Vagit Alekperov</td>\n      <td>67.0</td>\n      <td>oil</td>\n      <td>Energy</td>\n      <td>Male</td>\n      <td>Asia</td>\n      <td>Russia</td>\n      <td>16.4</td>\n    </tr>\n    <tr>\n      <th>81</th>\n      <td>82.0</td>\n      <td>Gennady Timchenko</td>\n      <td>65.0</td>\n      <td>oil, gas</td>\n      <td>Energy</td>\n      <td>Male</td>\n      <td>Asia</td>\n      <td>Russia</td>\n      <td>16.0</td>\n    </tr>\n    <tr>\n      <th>83</th>\n      <td>83.0</td>\n      <td>Vladimir Potanin</td>\n      <td>57.0</td>\n      <td>metals</td>\n      <td>Metals &amp; Mining</td>\n      <td>Male</td>\n      <td>Asia</td>\n      <td>Russia</td>\n      <td>15.9</td>\n    </tr>\n    <tr>\n      <th>86</th>\n      <td>87.0</td>\n      <td>Zhang Zhidong</td>\n      <td>46.0</td>\n      <td>internet media</td>\n      <td>Technology</td>\n      <td>Male</td>\n      <td>Asia</td>\n      <td>China</td>\n      <td>15.6</td>\n    </tr>\n    <tr>\n      <th>88</th>\n      <td>88.0</td>\n      <td>Andrey Melnichenko</td>\n      <td>46.0</td>\n      <td>coal, fertilizers</td>\n      <td>Energy</td>\n      <td>Male</td>\n      <td>Asia</td>\n      <td>Russia</td>\n      <td>15.5</td>\n    </tr>\n    <tr>\n      <th>91</th>\n      <td>91.0</td>\n      <td>Li Shufu</td>\n      <td>54.0</td>\n      <td>automobiles</td>\n      <td>Automotive</td>\n      <td>Male</td>\n      <td>Asia</td>\n      <td>China</td>\n      <td>15.3</td>\n    </tr>\n    <tr>\n      <th>92</th>\n      <td>93.0</td>\n      <td>Mikhail Fridman</td>\n      <td>53.0</td>\n      <td>oil, banking, telecom</td>\n      <td>Energy</td>\n      <td>Male</td>\n      <td>Asia</td>\n      <td>Russia</td>\n      <td>15.1</td>\n    </tr>\n    <tr>\n      <th>94</th>\n      <td>95.0</td>\n      <td>Dhanin Chearavanont</td>\n      <td>78.0</td>\n      <td>diversified</td>\n      <td>Diversified</td>\n      <td>Male</td>\n      <td>Asia</td>\n      <td>Thailand</td>\n      <td>14.9</td>\n    </tr>\n    <tr>\n      <th>95</th>\n      <td>96.0</td>\n      <td>Robert Kuok</td>\n      <td>94.0</td>\n      <td>palm oil, shipping, property</td>\n      <td>Diversified</td>\n      <td>Male</td>\n      <td>Asia</td>\n      <td>Malaysia</td>\n      <td>14.8</td>\n    </tr>\n    <tr>\n      <th>97</th>\n      <td>98.0</td>\n      <td>Shiv Nadar</td>\n      <td>72.0</td>\n      <td>software services</td>\n      <td>Technology</td>\n      <td>Male</td>\n      <td>Asia</td>\n      <td>India</td>\n      <td>14.6</td>\n    </tr>\n    <tr>\n      <th>98</th>\n      <td>99.0</td>\n      <td>Viktor Vekselberg</td>\n      <td>60.0</td>\n      <td>metals, energy</td>\n      <td>Energy</td>\n      <td>Male</td>\n      <td>Asia</td>\n      <td>Russia</td>\n      <td>14.4</td>\n    </tr>\n  </tbody>\n</table>\n</div>"
     },
     "metadata": {},
     "output_type": "execute_result",
     "execution_count": 23
    }
   ],
   "source": [
    "f_b100AS = f_b100[f_b100['Continent'] == 'Asia']\n",
    "f_b100AS"
   ]
  },
  {
   "cell_type": "code",
   "execution_count": 24,
   "metadata": {
    "pycharm": {
     "is_executing": false
    }
   },
   "outputs": [
    {
     "data": {
      "text/plain": "count    37.000000\nmean     65.486486\nstd      14.569034\nmin      36.000000\n25%      54.000000\n50%      65.000000\n75%      75.000000\nmax      94.000000\nName: Age, dtype: float64"
     },
     "metadata": {},
     "output_type": "execute_result",
     "execution_count": 24
    }
   ],
   "source": [
    "f_b100AS['Age'].describe()"
   ]
  },
  {
   "cell_type": "code",
   "execution_count": 25,
   "metadata": {
    "pycharm": {
     "is_executing": false
    }
   },
   "outputs": [
    {
     "data": {
      "text/plain": "    Rank                       Name   Age                        Source  \\\n16  17.0                 Ma Huateng  46.0                internet media   \n18  19.0              Mukesh Ambani  60.0     petrochemicals, oil & gas   \n19  20.0                    Jack Ma  53.0                    e-commerce   \n22  23.0                Li Ka-shing  89.0                   diversified   \n23  24.0                 Hui Ka Yan  59.0                   real estate   \n24  24.0               Lee Shau Kee  90.0                   real estate   \n25  26.0               Wang Jianlin  63.0                   real estate   \n39  39.0              Masayoshi Son  60.0             internet, telecom   \n42  43.0                Yang Huiyan  36.0                   real estate   \n49  50.0               He Xiangjian  75.0               home appliances   \n50  50.0                Lui Che Woo  88.0                       casinos   \n52  52.0                   Henry Sy  93.0                   diversified   \n55  55.0              Tadashi Yanai  69.0                fashion retail   \n56  57.0             Vladimir Lisin  61.0              steel, transport   \n58  58.0                Azim Premji  72.0             software services   \n59  60.0           Alexey Mordashov  52.0            steel, investments   \n60  61.0                Lee Kun-Hee  76.0                       Samsung   \n61  62.0             Lakshmi Mittal  67.0                         steel   \n62  63.0                   Wang Wei  48.0              package delivery   \n63  64.0           Leonid Mikhelson  62.0                gas, chemicals   \n64  65.0  Charoen Sirivadhanabhakdi  73.0           drinks, real estate   \n67  68.0         Takemitsu Takizaki  72.0                       sensors   \n68  69.0               William Ding  46.0                  online games   \n69  69.0            R. Budi Hartono  77.0              banking, tobacco   \n74  75.0            Michael Hartono  78.0              banking, tobacco   \n75  75.0                 Joseph Lau  66.0                   real estate   \n76  77.0      Thomas & Raymond Kwok  65.0                   real estate   \n77  78.0            Vagit Alekperov  67.0                           oil   \n81  82.0          Gennady Timchenko  65.0                      oil, gas   \n83  83.0           Vladimir Potanin  57.0                        metals   \n86  87.0              Zhang Zhidong  46.0                internet media   \n88  88.0         Andrey Melnichenko  46.0             coal, fertilizers   \n91  91.0                   Li Shufu  54.0                   automobiles   \n92  93.0            Mikhail Fridman  53.0         oil, banking, telecom   \n94  95.0        Dhanin Chearavanont  78.0                   diversified   \n95  96.0                Robert Kuok  94.0  palm oil, shipping, property   \n97  98.0                 Shiv Nadar  72.0             software services   \n98  99.0          Viktor Vekselberg  60.0                metals, energy   \n\n                   Industry  Gender Continent      Country  Net Worth  \n16               Technology    Male      Asia        China       45.3  \n18                   Energy    Male      Asia        India       40.1  \n19               Technology    Male      Asia        China       39.0  \n22              Diversified    Male      Asia    Hong Kong       34.9  \n23              Real Estate    Male      Asia        China       30.3  \n24              Real Estate    Male      Asia    Hong Kong       30.3  \n25              Real Estate    Male      Asia        China       30.0  \n39                  Telecom    Male      Asia        Japan       22.7  \n42              Real Estate  Female      Asia        China       21.9  \n49            Manufacturing    Male      Asia        China       20.1  \n50       Gambling & Casinos    Male      Asia    Hong Kong       20.1  \n52              Diversified    Male      Asia  Philippines       20.0  \n55         Fashion & Retail    Male      Asia        Japan       19.5  \n56          Metals & Mining    Male      Asia       Russia       19.1  \n58               Technology    Male      Asia        India       18.8  \n59          Metals & Mining    Male      Asia       Russia       18.7  \n60              Diversified    Male      Asia  South Korea       18.6  \n61          Metals & Mining    Male      Asia        India       18.5  \n62                  Service    Male      Asia        China       18.2  \n63                   Energy    Male      Asia       Russia       18.0  \n64        Food and Beverage    Male      Asia     Thailand       17.9  \n67            Manufacturing    Male      Asia        Japan       17.5  \n68               Technology    Male      Asia        China       17.4  \n69  Finance and Investments    Male      Asia    Indonesia       17.4  \n74            Manufacturing    Male      Asia    Indonesia       16.7  \n75              Real Estate    Male      Asia    Hong Kong       16.7  \n76              Real Estate    Male      Asia    Hong Kong       16.5  \n77                   Energy    Male      Asia       Russia       16.4  \n81                   Energy    Male      Asia       Russia       16.0  \n83          Metals & Mining    Male      Asia       Russia       15.9  \n86               Technology    Male      Asia        China       15.6  \n88                   Energy    Male      Asia       Russia       15.5  \n91               Automotive    Male      Asia        China       15.3  \n92                   Energy    Male      Asia       Russia       15.1  \n94              Diversified    Male      Asia     Thailand       14.9  \n95              Diversified    Male      Asia     Malaysia       14.8  \n97               Technology    Male      Asia        India       14.6  \n98                   Energy    Male      Asia       Russia       14.4  ",
      "text/html": "<div>\n<style scoped>\n    .dataframe tbody tr th:only-of-type {\n        vertical-align: middle;\n    }\n\n    .dataframe tbody tr th {\n        vertical-align: top;\n    }\n\n    .dataframe thead th {\n        text-align: right;\n    }\n</style>\n<table border=\"1\" class=\"dataframe\">\n  <thead>\n    <tr style=\"text-align: right;\">\n      <th></th>\n      <th>Rank</th>\n      <th>Name</th>\n      <th>Age</th>\n      <th>Source</th>\n      <th>Industry</th>\n      <th>Gender</th>\n      <th>Continent</th>\n      <th>Country</th>\n      <th>Net Worth</th>\n    </tr>\n  </thead>\n  <tbody>\n    <tr>\n      <th>16</th>\n      <td>17.0</td>\n      <td>Ma Huateng</td>\n      <td>46.0</td>\n      <td>internet media</td>\n      <td>Technology</td>\n      <td>Male</td>\n      <td>Asia</td>\n      <td>China</td>\n      <td>45.3</td>\n    </tr>\n    <tr>\n      <th>18</th>\n      <td>19.0</td>\n      <td>Mukesh Ambani</td>\n      <td>60.0</td>\n      <td>petrochemicals, oil &amp; gas</td>\n      <td>Energy</td>\n      <td>Male</td>\n      <td>Asia</td>\n      <td>India</td>\n      <td>40.1</td>\n    </tr>\n    <tr>\n      <th>19</th>\n      <td>20.0</td>\n      <td>Jack Ma</td>\n      <td>53.0</td>\n      <td>e-commerce</td>\n      <td>Technology</td>\n      <td>Male</td>\n      <td>Asia</td>\n      <td>China</td>\n      <td>39.0</td>\n    </tr>\n    <tr>\n      <th>22</th>\n      <td>23.0</td>\n      <td>Li Ka-shing</td>\n      <td>89.0</td>\n      <td>diversified</td>\n      <td>Diversified</td>\n      <td>Male</td>\n      <td>Asia</td>\n      <td>Hong Kong</td>\n      <td>34.9</td>\n    </tr>\n    <tr>\n      <th>23</th>\n      <td>24.0</td>\n      <td>Hui Ka Yan</td>\n      <td>59.0</td>\n      <td>real estate</td>\n      <td>Real Estate</td>\n      <td>Male</td>\n      <td>Asia</td>\n      <td>China</td>\n      <td>30.3</td>\n    </tr>\n    <tr>\n      <th>24</th>\n      <td>24.0</td>\n      <td>Lee Shau Kee</td>\n      <td>90.0</td>\n      <td>real estate</td>\n      <td>Real Estate</td>\n      <td>Male</td>\n      <td>Asia</td>\n      <td>Hong Kong</td>\n      <td>30.3</td>\n    </tr>\n    <tr>\n      <th>25</th>\n      <td>26.0</td>\n      <td>Wang Jianlin</td>\n      <td>63.0</td>\n      <td>real estate</td>\n      <td>Real Estate</td>\n      <td>Male</td>\n      <td>Asia</td>\n      <td>China</td>\n      <td>30.0</td>\n    </tr>\n    <tr>\n      <th>39</th>\n      <td>39.0</td>\n      <td>Masayoshi Son</td>\n      <td>60.0</td>\n      <td>internet, telecom</td>\n      <td>Telecom</td>\n      <td>Male</td>\n      <td>Asia</td>\n      <td>Japan</td>\n      <td>22.7</td>\n    </tr>\n    <tr>\n      <th>42</th>\n      <td>43.0</td>\n      <td>Yang Huiyan</td>\n      <td>36.0</td>\n      <td>real estate</td>\n      <td>Real Estate</td>\n      <td>Female</td>\n      <td>Asia</td>\n      <td>China</td>\n      <td>21.9</td>\n    </tr>\n    <tr>\n      <th>49</th>\n      <td>50.0</td>\n      <td>He Xiangjian</td>\n      <td>75.0</td>\n      <td>home appliances</td>\n      <td>Manufacturing</td>\n      <td>Male</td>\n      <td>Asia</td>\n      <td>China</td>\n      <td>20.1</td>\n    </tr>\n    <tr>\n      <th>50</th>\n      <td>50.0</td>\n      <td>Lui Che Woo</td>\n      <td>88.0</td>\n      <td>casinos</td>\n      <td>Gambling &amp; Casinos</td>\n      <td>Male</td>\n      <td>Asia</td>\n      <td>Hong Kong</td>\n      <td>20.1</td>\n    </tr>\n    <tr>\n      <th>52</th>\n      <td>52.0</td>\n      <td>Henry Sy</td>\n      <td>93.0</td>\n      <td>diversified</td>\n      <td>Diversified</td>\n      <td>Male</td>\n      <td>Asia</td>\n      <td>Philippines</td>\n      <td>20.0</td>\n    </tr>\n    <tr>\n      <th>55</th>\n      <td>55.0</td>\n      <td>Tadashi Yanai</td>\n      <td>69.0</td>\n      <td>fashion retail</td>\n      <td>Fashion &amp; Retail</td>\n      <td>Male</td>\n      <td>Asia</td>\n      <td>Japan</td>\n      <td>19.5</td>\n    </tr>\n    <tr>\n      <th>56</th>\n      <td>57.0</td>\n      <td>Vladimir Lisin</td>\n      <td>61.0</td>\n      <td>steel, transport</td>\n      <td>Metals &amp; Mining</td>\n      <td>Male</td>\n      <td>Asia</td>\n      <td>Russia</td>\n      <td>19.1</td>\n    </tr>\n    <tr>\n      <th>58</th>\n      <td>58.0</td>\n      <td>Azim Premji</td>\n      <td>72.0</td>\n      <td>software services</td>\n      <td>Technology</td>\n      <td>Male</td>\n      <td>Asia</td>\n      <td>India</td>\n      <td>18.8</td>\n    </tr>\n    <tr>\n      <th>59</th>\n      <td>60.0</td>\n      <td>Alexey Mordashov</td>\n      <td>52.0</td>\n      <td>steel, investments</td>\n      <td>Metals &amp; Mining</td>\n      <td>Male</td>\n      <td>Asia</td>\n      <td>Russia</td>\n      <td>18.7</td>\n    </tr>\n    <tr>\n      <th>60</th>\n      <td>61.0</td>\n      <td>Lee Kun-Hee</td>\n      <td>76.0</td>\n      <td>Samsung</td>\n      <td>Diversified</td>\n      <td>Male</td>\n      <td>Asia</td>\n      <td>South Korea</td>\n      <td>18.6</td>\n    </tr>\n    <tr>\n      <th>61</th>\n      <td>62.0</td>\n      <td>Lakshmi Mittal</td>\n      <td>67.0</td>\n      <td>steel</td>\n      <td>Metals &amp; Mining</td>\n      <td>Male</td>\n      <td>Asia</td>\n      <td>India</td>\n      <td>18.5</td>\n    </tr>\n    <tr>\n      <th>62</th>\n      <td>63.0</td>\n      <td>Wang Wei</td>\n      <td>48.0</td>\n      <td>package delivery</td>\n      <td>Service</td>\n      <td>Male</td>\n      <td>Asia</td>\n      <td>China</td>\n      <td>18.2</td>\n    </tr>\n    <tr>\n      <th>63</th>\n      <td>64.0</td>\n      <td>Leonid Mikhelson</td>\n      <td>62.0</td>\n      <td>gas, chemicals</td>\n      <td>Energy</td>\n      <td>Male</td>\n      <td>Asia</td>\n      <td>Russia</td>\n      <td>18.0</td>\n    </tr>\n    <tr>\n      <th>64</th>\n      <td>65.0</td>\n      <td>Charoen Sirivadhanabhakdi</td>\n      <td>73.0</td>\n      <td>drinks, real estate</td>\n      <td>Food and Beverage</td>\n      <td>Male</td>\n      <td>Asia</td>\n      <td>Thailand</td>\n      <td>17.9</td>\n    </tr>\n    <tr>\n      <th>67</th>\n      <td>68.0</td>\n      <td>Takemitsu Takizaki</td>\n      <td>72.0</td>\n      <td>sensors</td>\n      <td>Manufacturing</td>\n      <td>Male</td>\n      <td>Asia</td>\n      <td>Japan</td>\n      <td>17.5</td>\n    </tr>\n    <tr>\n      <th>68</th>\n      <td>69.0</td>\n      <td>William Ding</td>\n      <td>46.0</td>\n      <td>online games</td>\n      <td>Technology</td>\n      <td>Male</td>\n      <td>Asia</td>\n      <td>China</td>\n      <td>17.4</td>\n    </tr>\n    <tr>\n      <th>69</th>\n      <td>69.0</td>\n      <td>R. Budi Hartono</td>\n      <td>77.0</td>\n      <td>banking, tobacco</td>\n      <td>Finance and Investments</td>\n      <td>Male</td>\n      <td>Asia</td>\n      <td>Indonesia</td>\n      <td>17.4</td>\n    </tr>\n    <tr>\n      <th>74</th>\n      <td>75.0</td>\n      <td>Michael Hartono</td>\n      <td>78.0</td>\n      <td>banking, tobacco</td>\n      <td>Manufacturing</td>\n      <td>Male</td>\n      <td>Asia</td>\n      <td>Indonesia</td>\n      <td>16.7</td>\n    </tr>\n    <tr>\n      <th>75</th>\n      <td>75.0</td>\n      <td>Joseph Lau</td>\n      <td>66.0</td>\n      <td>real estate</td>\n      <td>Real Estate</td>\n      <td>Male</td>\n      <td>Asia</td>\n      <td>Hong Kong</td>\n      <td>16.7</td>\n    </tr>\n    <tr>\n      <th>76</th>\n      <td>77.0</td>\n      <td>Thomas &amp; Raymond Kwok</td>\n      <td>65.0</td>\n      <td>real estate</td>\n      <td>Real Estate</td>\n      <td>Male</td>\n      <td>Asia</td>\n      <td>Hong Kong</td>\n      <td>16.5</td>\n    </tr>\n    <tr>\n      <th>77</th>\n      <td>78.0</td>\n      <td>Vagit Alekperov</td>\n      <td>67.0</td>\n      <td>oil</td>\n      <td>Energy</td>\n      <td>Male</td>\n      <td>Asia</td>\n      <td>Russia</td>\n      <td>16.4</td>\n    </tr>\n    <tr>\n      <th>81</th>\n      <td>82.0</td>\n      <td>Gennady Timchenko</td>\n      <td>65.0</td>\n      <td>oil, gas</td>\n      <td>Energy</td>\n      <td>Male</td>\n      <td>Asia</td>\n      <td>Russia</td>\n      <td>16.0</td>\n    </tr>\n    <tr>\n      <th>83</th>\n      <td>83.0</td>\n      <td>Vladimir Potanin</td>\n      <td>57.0</td>\n      <td>metals</td>\n      <td>Metals &amp; Mining</td>\n      <td>Male</td>\n      <td>Asia</td>\n      <td>Russia</td>\n      <td>15.9</td>\n    </tr>\n    <tr>\n      <th>86</th>\n      <td>87.0</td>\n      <td>Zhang Zhidong</td>\n      <td>46.0</td>\n      <td>internet media</td>\n      <td>Technology</td>\n      <td>Male</td>\n      <td>Asia</td>\n      <td>China</td>\n      <td>15.6</td>\n    </tr>\n    <tr>\n      <th>88</th>\n      <td>88.0</td>\n      <td>Andrey Melnichenko</td>\n      <td>46.0</td>\n      <td>coal, fertilizers</td>\n      <td>Energy</td>\n      <td>Male</td>\n      <td>Asia</td>\n      <td>Russia</td>\n      <td>15.5</td>\n    </tr>\n    <tr>\n      <th>91</th>\n      <td>91.0</td>\n      <td>Li Shufu</td>\n      <td>54.0</td>\n      <td>automobiles</td>\n      <td>Automotive</td>\n      <td>Male</td>\n      <td>Asia</td>\n      <td>China</td>\n      <td>15.3</td>\n    </tr>\n    <tr>\n      <th>92</th>\n      <td>93.0</td>\n      <td>Mikhail Fridman</td>\n      <td>53.0</td>\n      <td>oil, banking, telecom</td>\n      <td>Energy</td>\n      <td>Male</td>\n      <td>Asia</td>\n      <td>Russia</td>\n      <td>15.1</td>\n    </tr>\n    <tr>\n      <th>94</th>\n      <td>95.0</td>\n      <td>Dhanin Chearavanont</td>\n      <td>78.0</td>\n      <td>diversified</td>\n      <td>Diversified</td>\n      <td>Male</td>\n      <td>Asia</td>\n      <td>Thailand</td>\n      <td>14.9</td>\n    </tr>\n    <tr>\n      <th>95</th>\n      <td>96.0</td>\n      <td>Robert Kuok</td>\n      <td>94.0</td>\n      <td>palm oil, shipping, property</td>\n      <td>Diversified</td>\n      <td>Male</td>\n      <td>Asia</td>\n      <td>Malaysia</td>\n      <td>14.8</td>\n    </tr>\n    <tr>\n      <th>97</th>\n      <td>98.0</td>\n      <td>Shiv Nadar</td>\n      <td>72.0</td>\n      <td>software services</td>\n      <td>Technology</td>\n      <td>Male</td>\n      <td>Asia</td>\n      <td>India</td>\n      <td>14.6</td>\n    </tr>\n    <tr>\n      <th>98</th>\n      <td>99.0</td>\n      <td>Viktor Vekselberg</td>\n      <td>60.0</td>\n      <td>metals, energy</td>\n      <td>Energy</td>\n      <td>Male</td>\n      <td>Asia</td>\n      <td>Russia</td>\n      <td>14.4</td>\n    </tr>\n  </tbody>\n</table>\n</div>"
     },
     "metadata": {},
     "output_type": "execute_result",
     "execution_count": 25
    }
   ],
   "source": [
    "f_b100AS['Age'] = f_b100AS['Age'].fillna(65)\n",
    "f_b100AS"
   ]
  },
  {
   "cell_type": "code",
   "execution_count": 26,
   "metadata": {
    "pycharm": {
     "is_executing": false
    }
   },
   "outputs": [
    {
     "data": {
      "text/plain": "count       38\nunique       2\ntop       Male\nfreq        37\nName: Gender, dtype: object"
     },
     "metadata": {},
     "output_type": "execute_result",
     "execution_count": 26
    }
   ],
   "source": [
    "f_b100AS['Gender'].describe()"
   ]
  },
  {
   "cell_type": "markdown",
   "metadata": {},
   "source": [
    "### Re-insert back into the f_b100 dataframe"
   ]
  },
  {
   "cell_type": "code",
   "execution_count": 27,
   "metadata": {
    "pycharm": {
     "is_executing": false
    }
   },
   "outputs": [],
   "source": [
    "f_b100[f_b100['Continent'] == 'Asia'] = f_b100AS"
   ]
  },
  {
   "cell_type": "markdown",
   "metadata": {},
   "source": [
    "### check to see if all nan has been filled out"
   ]
  },
  {
   "cell_type": "code",
   "execution_count": 28,
   "metadata": {
    "pycharm": {
     "is_executing": false
    }
   },
   "outputs": [
    {
     "data": {
      "text/plain": "Rank         0\nName         0\nAge          0\nSource       0\nIndustry     0\nGender       0\nContinent    0\nCountry      0\nNet Worth    0\ndtype: int64"
     },
     "metadata": {},
     "output_type": "execute_result",
     "execution_count": 28
    }
   ],
   "source": [
    "f_b100.isna().sum()"
   ]
  },
  {
   "cell_type": "markdown",
   "metadata": {},
   "source": [
    "### The cell above shows there is no more missing value / nan in the f_b100 dataframe, so now change the dtype of Rank and Age to int"
   ]
  },
  {
   "cell_type": "code",
   "execution_count": 29,
   "metadata": {
    "pycharm": {
     "is_executing": false
    }
   },
   "outputs": [],
   "source": [
    "f_b100[['Rank','Age']] = f_b100[['Rank','Age']].astype(int)"
   ]
  },
  {
   "cell_type": "code",
   "execution_count": 30,
   "metadata": {
    "pycharm": {
     "is_executing": false
    }
   },
   "outputs": [
    {
     "data": {
      "text/plain": "   Rank        Name  Age     Source    Industry Gender      Continent  \\\n0     1  Jeff Bezos   54     Amazon  Technology   Male  North America   \n1     2  Bill Gates   62  Microsoft  Technology   Male  North America   \n\n         Country  Net Worth  \n0  United States      112.0  \n1  United States       90.0  ",
      "text/html": "<div>\n<style scoped>\n    .dataframe tbody tr th:only-of-type {\n        vertical-align: middle;\n    }\n\n    .dataframe tbody tr th {\n        vertical-align: top;\n    }\n\n    .dataframe thead th {\n        text-align: right;\n    }\n</style>\n<table border=\"1\" class=\"dataframe\">\n  <thead>\n    <tr style=\"text-align: right;\">\n      <th></th>\n      <th>Rank</th>\n      <th>Name</th>\n      <th>Age</th>\n      <th>Source</th>\n      <th>Industry</th>\n      <th>Gender</th>\n      <th>Continent</th>\n      <th>Country</th>\n      <th>Net Worth</th>\n    </tr>\n  </thead>\n  <tbody>\n    <tr>\n      <th>0</th>\n      <td>1</td>\n      <td>Jeff Bezos</td>\n      <td>54</td>\n      <td>Amazon</td>\n      <td>Technology</td>\n      <td>Male</td>\n      <td>North America</td>\n      <td>United States</td>\n      <td>112.0</td>\n    </tr>\n    <tr>\n      <th>1</th>\n      <td>2</td>\n      <td>Bill Gates</td>\n      <td>62</td>\n      <td>Microsoft</td>\n      <td>Technology</td>\n      <td>Male</td>\n      <td>North America</td>\n      <td>United States</td>\n      <td>90.0</td>\n    </tr>\n  </tbody>\n</table>\n</div>"
     },
     "metadata": {},
     "output_type": "execute_result",
     "execution_count": 30
    }
   ],
   "source": [
    "f_b100.head(2)"
   ]
  },
  {
   "cell_type": "markdown",
   "metadata": {},
   "source": [
    "### Check for unique values and duplicate vallues"
   ]
  },
  {
   "cell_type": "code",
   "execution_count": 31,
   "metadata": {
    "pycharm": {
     "is_executing": false
    }
   },
   "outputs": [
    {
     "data": {
      "text/plain": "False    100\ndtype: int64"
     },
     "metadata": {},
     "output_type": "execute_result",
     "execution_count": 31
    }
   ],
   "source": [
    "f_b100.duplicated().value_counts() # using duplicated() on whole df does not give a true\n",
    "                                 #picture of duplicated values in each col"
   ]
  },
  {
   "cell_type": "code",
   "execution_count": 32,
   "metadata": {
    "pycharm": {
     "is_executing": false
    }
   },
   "outputs": [
    {
     "data": {
      "text/plain": "78"
     },
     "metadata": {},
     "output_type": "execute_result",
     "execution_count": 32
    }
   ],
   "source": [
    "f_b100['Rank'].nunique()  # there are only 78 unique values instead of 100, meaning some people share the same rank"
   ]
  },
  {
   "cell_type": "code",
   "execution_count": 32,
   "metadata": {
    "pycharm": {
     "is_executing": false
    }
   },
   "outputs": [],
   "source": []
  },
  {
   "cell_type": "code",
   "execution_count": 33,
   "metadata": {
    "pycharm": {
     "is_executing": false
    }
   },
   "outputs": [
    {
     "data": {
      "text/plain": "100"
     },
     "metadata": {},
     "output_type": "execute_result",
     "execution_count": 33
    }
   ],
   "source": [
    "f_b100['Name'].nunique()  # there are 100 unique names, so no name is repeated"
   ]
  },
  {
   "cell_type": "code",
   "execution_count": 34,
   "metadata": {
    "pycharm": {
     "is_executing": false
    }
   },
   "outputs": [],
   "source": [
    "#n = f_b100['Name'].duplicated()\n",
    "#n.value_counts()"
   ]
  },
  {
   "cell_type": "code",
   "execution_count": 35,
   "metadata": {
    "pycharm": {
     "is_executing": false
    }
   },
   "outputs": [],
   "source": [
    "#f_b100[n]"
   ]
  },
  {
   "cell_type": "code",
   "execution_count": 36,
   "metadata": {
    "pycharm": {
     "is_executing": false
    }
   },
   "outputs": [],
   "source": [
    "#f_b100[['Rank','Net Worth']].value_counts(sort=False)"
   ]
  },
  {
   "cell_type": "code",
   "execution_count": 37,
   "metadata": {
    "pycharm": {
     "is_executing": false
    }
   },
   "outputs": [],
   "source": [
    "r = f_b100[['Rank','Net Worth']].duplicated()\n"
   ]
  },
  {
   "cell_type": "code",
   "execution_count": 38,
   "metadata": {
    "pycharm": {
     "is_executing": false
    }
   },
   "outputs": [
    {
     "data": {
      "text/plain": "False    78\nTrue     22\ndtype: int64"
     },
     "metadata": {},
     "output_type": "execute_result",
     "execution_count": 38
    }
   ],
   "source": [
    "r.value_counts()# there are about 22 duplicated value each for rank and net worth"
   ]
  },
  {
   "cell_type": "code",
   "execution_count": 39,
   "metadata": {
    "pycharm": {
     "is_executing": false
    }
   },
   "outputs": [
    {
     "data": {
      "text/plain": "    Rank                  Name  Age                    Source  \\\n8      8            David Koch   77           Koch Industries   \n24    24          Lee Shau Kee   90               real estate   \n32    32         David Thomson   60                     media   \n34    34             John Mars   82           candy, pet food   \n37    37   Dietrich Mateschitz   73                  Red Bull   \n39    39         Masayoshi Son   60         internet, telecom   \n48    48         Len Blavatnik   60               diversified   \n50    50           Lui Che Woo   88                   casinos   \n52    52              Henry Sy   93               diversified   \n55    55         Tadashi Yanai   69            fashion retail   \n58    58           Azim Premji   72         software services   \n69    69       R. Budi Hartono   77          banking, tobacco   \n70    69         Gina Rinehart   64                    mining   \n73    73        Stefan Persson   70                       H&M   \n75    75            Joseph Lau   66               real estate   \n78    78       James Ratcliffe   65                 chemicals   \n80    80         Iris Fontbona   75                    mining   \n83    83      Vladimir Potanin   57                    metals   \n84    83          Lukas Walton   31                   Walmart   \n88    88    Andrey Melnichenko   46         coal, fertilizers   \n89    88  David & Simon Reuben   68  investments, real estate   \n91    91              Li Shufu   54               automobiles   \n\n                   Industry  Gender      Continent         Country  Net Worth  \n8               Diversified    Male  North America   United States       60.0  \n24              Real Estate    Male           Asia       Hong Kong       30.3  \n32    Media & Entertainment    Male  North America          Canada       25.0  \n34        Food and Beverage    Male  North America   United States       23.6  \n37        Food and Beverage    Male         Europe         Austria       23.0  \n39                  Telecom    Male           Asia           Japan       22.7  \n48              Diversified    Male  North America   United States       20.2  \n50       Gambling & Casinos    Male           Asia       Hong Kong       20.1  \n52              Diversified    Male           Asia     Philippines       20.0  \n55         Fashion & Retail    Male           Asia           Japan       19.5  \n58               Technology    Male           Asia           India       18.8  \n69  Finance and Investments    Male           Asia       Indonesia       17.4  \n70          Metals & Mining  Female        Oceania       Australia       17.4  \n73         Fashion & Retail    Male         Europe          Sweden       16.8  \n75              Real Estate    Male           Asia       Hong Kong       16.7  \n78            Manufacturing    Male         Europe  United Kingdom       16.4  \n80          Metals & Mining  Female  South America           Chile       16.3  \n83          Metals & Mining    Male           Asia          Russia       15.9  \n84         Fashion & Retail    Male  North America   United States       15.9  \n88                   Energy    Male           Asia          Russia       15.5  \n89              Real Estate    Male         Europe  United Kingdom       15.5  \n91               Automotive    Male           Asia           China       15.3  ",
      "text/html": "<div>\n<style scoped>\n    .dataframe tbody tr th:only-of-type {\n        vertical-align: middle;\n    }\n\n    .dataframe tbody tr th {\n        vertical-align: top;\n    }\n\n    .dataframe thead th {\n        text-align: right;\n    }\n</style>\n<table border=\"1\" class=\"dataframe\">\n  <thead>\n    <tr style=\"text-align: right;\">\n      <th></th>\n      <th>Rank</th>\n      <th>Name</th>\n      <th>Age</th>\n      <th>Source</th>\n      <th>Industry</th>\n      <th>Gender</th>\n      <th>Continent</th>\n      <th>Country</th>\n      <th>Net Worth</th>\n    </tr>\n  </thead>\n  <tbody>\n    <tr>\n      <th>8</th>\n      <td>8</td>\n      <td>David Koch</td>\n      <td>77</td>\n      <td>Koch Industries</td>\n      <td>Diversified</td>\n      <td>Male</td>\n      <td>North America</td>\n      <td>United States</td>\n      <td>60.0</td>\n    </tr>\n    <tr>\n      <th>24</th>\n      <td>24</td>\n      <td>Lee Shau Kee</td>\n      <td>90</td>\n      <td>real estate</td>\n      <td>Real Estate</td>\n      <td>Male</td>\n      <td>Asia</td>\n      <td>Hong Kong</td>\n      <td>30.3</td>\n    </tr>\n    <tr>\n      <th>32</th>\n      <td>32</td>\n      <td>David Thomson</td>\n      <td>60</td>\n      <td>media</td>\n      <td>Media &amp; Entertainment</td>\n      <td>Male</td>\n      <td>North America</td>\n      <td>Canada</td>\n      <td>25.0</td>\n    </tr>\n    <tr>\n      <th>34</th>\n      <td>34</td>\n      <td>John Mars</td>\n      <td>82</td>\n      <td>candy, pet food</td>\n      <td>Food and Beverage</td>\n      <td>Male</td>\n      <td>North America</td>\n      <td>United States</td>\n      <td>23.6</td>\n    </tr>\n    <tr>\n      <th>37</th>\n      <td>37</td>\n      <td>Dietrich Mateschitz</td>\n      <td>73</td>\n      <td>Red Bull</td>\n      <td>Food and Beverage</td>\n      <td>Male</td>\n      <td>Europe</td>\n      <td>Austria</td>\n      <td>23.0</td>\n    </tr>\n    <tr>\n      <th>39</th>\n      <td>39</td>\n      <td>Masayoshi Son</td>\n      <td>60</td>\n      <td>internet, telecom</td>\n      <td>Telecom</td>\n      <td>Male</td>\n      <td>Asia</td>\n      <td>Japan</td>\n      <td>22.7</td>\n    </tr>\n    <tr>\n      <th>48</th>\n      <td>48</td>\n      <td>Len Blavatnik</td>\n      <td>60</td>\n      <td>diversified</td>\n      <td>Diversified</td>\n      <td>Male</td>\n      <td>North America</td>\n      <td>United States</td>\n      <td>20.2</td>\n    </tr>\n    <tr>\n      <th>50</th>\n      <td>50</td>\n      <td>Lui Che Woo</td>\n      <td>88</td>\n      <td>casinos</td>\n      <td>Gambling &amp; Casinos</td>\n      <td>Male</td>\n      <td>Asia</td>\n      <td>Hong Kong</td>\n      <td>20.1</td>\n    </tr>\n    <tr>\n      <th>52</th>\n      <td>52</td>\n      <td>Henry Sy</td>\n      <td>93</td>\n      <td>diversified</td>\n      <td>Diversified</td>\n      <td>Male</td>\n      <td>Asia</td>\n      <td>Philippines</td>\n      <td>20.0</td>\n    </tr>\n    <tr>\n      <th>55</th>\n      <td>55</td>\n      <td>Tadashi Yanai</td>\n      <td>69</td>\n      <td>fashion retail</td>\n      <td>Fashion &amp; Retail</td>\n      <td>Male</td>\n      <td>Asia</td>\n      <td>Japan</td>\n      <td>19.5</td>\n    </tr>\n    <tr>\n      <th>58</th>\n      <td>58</td>\n      <td>Azim Premji</td>\n      <td>72</td>\n      <td>software services</td>\n      <td>Technology</td>\n      <td>Male</td>\n      <td>Asia</td>\n      <td>India</td>\n      <td>18.8</td>\n    </tr>\n    <tr>\n      <th>69</th>\n      <td>69</td>\n      <td>R. Budi Hartono</td>\n      <td>77</td>\n      <td>banking, tobacco</td>\n      <td>Finance and Investments</td>\n      <td>Male</td>\n      <td>Asia</td>\n      <td>Indonesia</td>\n      <td>17.4</td>\n    </tr>\n    <tr>\n      <th>70</th>\n      <td>69</td>\n      <td>Gina Rinehart</td>\n      <td>64</td>\n      <td>mining</td>\n      <td>Metals &amp; Mining</td>\n      <td>Female</td>\n      <td>Oceania</td>\n      <td>Australia</td>\n      <td>17.4</td>\n    </tr>\n    <tr>\n      <th>73</th>\n      <td>73</td>\n      <td>Stefan Persson</td>\n      <td>70</td>\n      <td>H&amp;M</td>\n      <td>Fashion &amp; Retail</td>\n      <td>Male</td>\n      <td>Europe</td>\n      <td>Sweden</td>\n      <td>16.8</td>\n    </tr>\n    <tr>\n      <th>75</th>\n      <td>75</td>\n      <td>Joseph Lau</td>\n      <td>66</td>\n      <td>real estate</td>\n      <td>Real Estate</td>\n      <td>Male</td>\n      <td>Asia</td>\n      <td>Hong Kong</td>\n      <td>16.7</td>\n    </tr>\n    <tr>\n      <th>78</th>\n      <td>78</td>\n      <td>James Ratcliffe</td>\n      <td>65</td>\n      <td>chemicals</td>\n      <td>Manufacturing</td>\n      <td>Male</td>\n      <td>Europe</td>\n      <td>United Kingdom</td>\n      <td>16.4</td>\n    </tr>\n    <tr>\n      <th>80</th>\n      <td>80</td>\n      <td>Iris Fontbona</td>\n      <td>75</td>\n      <td>mining</td>\n      <td>Metals &amp; Mining</td>\n      <td>Female</td>\n      <td>South America</td>\n      <td>Chile</td>\n      <td>16.3</td>\n    </tr>\n    <tr>\n      <th>83</th>\n      <td>83</td>\n      <td>Vladimir Potanin</td>\n      <td>57</td>\n      <td>metals</td>\n      <td>Metals &amp; Mining</td>\n      <td>Male</td>\n      <td>Asia</td>\n      <td>Russia</td>\n      <td>15.9</td>\n    </tr>\n    <tr>\n      <th>84</th>\n      <td>83</td>\n      <td>Lukas Walton</td>\n      <td>31</td>\n      <td>Walmart</td>\n      <td>Fashion &amp; Retail</td>\n      <td>Male</td>\n      <td>North America</td>\n      <td>United States</td>\n      <td>15.9</td>\n    </tr>\n    <tr>\n      <th>88</th>\n      <td>88</td>\n      <td>Andrey Melnichenko</td>\n      <td>46</td>\n      <td>coal, fertilizers</td>\n      <td>Energy</td>\n      <td>Male</td>\n      <td>Asia</td>\n      <td>Russia</td>\n      <td>15.5</td>\n    </tr>\n    <tr>\n      <th>89</th>\n      <td>88</td>\n      <td>David &amp; Simon Reuben</td>\n      <td>68</td>\n      <td>investments, real estate</td>\n      <td>Real Estate</td>\n      <td>Male</td>\n      <td>Europe</td>\n      <td>United Kingdom</td>\n      <td>15.5</td>\n    </tr>\n    <tr>\n      <th>91</th>\n      <td>91</td>\n      <td>Li Shufu</td>\n      <td>54</td>\n      <td>automobiles</td>\n      <td>Automotive</td>\n      <td>Male</td>\n      <td>Asia</td>\n      <td>China</td>\n      <td>15.3</td>\n    </tr>\n  </tbody>\n</table>\n</div>"
     },
     "metadata": {},
     "output_type": "execute_result",
     "execution_count": 39
    }
   ],
   "source": [
    "f_b100[r] # this shows the rank and net worth that areduplicated"
   ]
  },
  {
   "cell_type": "code",
   "execution_count": 40,
   "metadata": {
    "pycharm": {
     "is_executing": false
    }
   },
   "outputs": [
    {
     "data": {
      "text/plain": "    Rank                          Name  Age                     Source  \\\n7      8                  Charles Koch   82            Koch Industries   \n8      8                    David Koch   77            Koch Industries   \n9     10                 Larry Ellison   73                   software   \n10    11             Michael Bloomberg   76               Bloomberg LP   \n11    12                    Larry Page   44                     Google   \n12    13                   Sergey Brin   44                     Google   \n13    14                    Jim Walton   69                    Walmart   \n14    15              S. Robson Walton   73                    Walmart   \n15    16                  Alice Walton   68                    Walmart   \n16    17                    Ma Huateng   46             internet media   \n17    18  Francoise Bettencourt Meyers   64                    L'Oreal   \n18    19                 Mukesh Ambani   60  petrochemicals, oil & gas   \n19    20                       Jack Ma   53                 e-commerce   \n20    21               Sheldon Adelson   84                    casinos   \n21    22                 Steve Ballmer   61                  Microsoft   \n22    23                   Li Ka-shing   89                diversified   \n23    24                    Hui Ka Yan   59                real estate   \n24    24                  Lee Shau Kee   90                real estate   \n\n                 Industry  Gender      Continent        Country  Net Worth  \n7             Diversified    Male  North America  United States       60.0  \n8             Diversified    Male  North America  United States       60.0  \n9              Technology    Male  North America  United States       58.5  \n10  Media & Entertainment    Male  North America  United States       50.0  \n11             Technology    Male  North America  United States       48.8  \n12             Technology    Male  North America  United States       47.5  \n13       Fashion & Retail    Male  North America  United States       46.4  \n14       Fashion & Retail    Male  North America  United States       46.2  \n15       Fashion & Retail  Female  North America  United States       46.0  \n16             Technology    Male           Asia          China       45.3  \n17       Fashion & Retail  Female         Europe         France       42.2  \n18                 Energy    Male           Asia          India       40.1  \n19             Technology    Male           Asia          China       39.0  \n20     Gambling & Casinos    Male  North America  United States       38.5  \n21             Technology    Male  North America  United States       38.4  \n22            Diversified    Male           Asia      Hong Kong       34.9  \n23            Real Estate    Male           Asia          China       30.3  \n24            Real Estate    Male           Asia      Hong Kong       30.3  ",
      "text/html": "<div>\n<style scoped>\n    .dataframe tbody tr th:only-of-type {\n        vertical-align: middle;\n    }\n\n    .dataframe tbody tr th {\n        vertical-align: top;\n    }\n\n    .dataframe thead th {\n        text-align: right;\n    }\n</style>\n<table border=\"1\" class=\"dataframe\">\n  <thead>\n    <tr style=\"text-align: right;\">\n      <th></th>\n      <th>Rank</th>\n      <th>Name</th>\n      <th>Age</th>\n      <th>Source</th>\n      <th>Industry</th>\n      <th>Gender</th>\n      <th>Continent</th>\n      <th>Country</th>\n      <th>Net Worth</th>\n    </tr>\n  </thead>\n  <tbody>\n    <tr>\n      <th>7</th>\n      <td>8</td>\n      <td>Charles Koch</td>\n      <td>82</td>\n      <td>Koch Industries</td>\n      <td>Diversified</td>\n      <td>Male</td>\n      <td>North America</td>\n      <td>United States</td>\n      <td>60.0</td>\n    </tr>\n    <tr>\n      <th>8</th>\n      <td>8</td>\n      <td>David Koch</td>\n      <td>77</td>\n      <td>Koch Industries</td>\n      <td>Diversified</td>\n      <td>Male</td>\n      <td>North America</td>\n      <td>United States</td>\n      <td>60.0</td>\n    </tr>\n    <tr>\n      <th>9</th>\n      <td>10</td>\n      <td>Larry Ellison</td>\n      <td>73</td>\n      <td>software</td>\n      <td>Technology</td>\n      <td>Male</td>\n      <td>North America</td>\n      <td>United States</td>\n      <td>58.5</td>\n    </tr>\n    <tr>\n      <th>10</th>\n      <td>11</td>\n      <td>Michael Bloomberg</td>\n      <td>76</td>\n      <td>Bloomberg LP</td>\n      <td>Media &amp; Entertainment</td>\n      <td>Male</td>\n      <td>North America</td>\n      <td>United States</td>\n      <td>50.0</td>\n    </tr>\n    <tr>\n      <th>11</th>\n      <td>12</td>\n      <td>Larry Page</td>\n      <td>44</td>\n      <td>Google</td>\n      <td>Technology</td>\n      <td>Male</td>\n      <td>North America</td>\n      <td>United States</td>\n      <td>48.8</td>\n    </tr>\n    <tr>\n      <th>12</th>\n      <td>13</td>\n      <td>Sergey Brin</td>\n      <td>44</td>\n      <td>Google</td>\n      <td>Technology</td>\n      <td>Male</td>\n      <td>North America</td>\n      <td>United States</td>\n      <td>47.5</td>\n    </tr>\n    <tr>\n      <th>13</th>\n      <td>14</td>\n      <td>Jim Walton</td>\n      <td>69</td>\n      <td>Walmart</td>\n      <td>Fashion &amp; Retail</td>\n      <td>Male</td>\n      <td>North America</td>\n      <td>United States</td>\n      <td>46.4</td>\n    </tr>\n    <tr>\n      <th>14</th>\n      <td>15</td>\n      <td>S. Robson Walton</td>\n      <td>73</td>\n      <td>Walmart</td>\n      <td>Fashion &amp; Retail</td>\n      <td>Male</td>\n      <td>North America</td>\n      <td>United States</td>\n      <td>46.2</td>\n    </tr>\n    <tr>\n      <th>15</th>\n      <td>16</td>\n      <td>Alice Walton</td>\n      <td>68</td>\n      <td>Walmart</td>\n      <td>Fashion &amp; Retail</td>\n      <td>Female</td>\n      <td>North America</td>\n      <td>United States</td>\n      <td>46.0</td>\n    </tr>\n    <tr>\n      <th>16</th>\n      <td>17</td>\n      <td>Ma Huateng</td>\n      <td>46</td>\n      <td>internet media</td>\n      <td>Technology</td>\n      <td>Male</td>\n      <td>Asia</td>\n      <td>China</td>\n      <td>45.3</td>\n    </tr>\n    <tr>\n      <th>17</th>\n      <td>18</td>\n      <td>Francoise Bettencourt Meyers</td>\n      <td>64</td>\n      <td>L'Oreal</td>\n      <td>Fashion &amp; Retail</td>\n      <td>Female</td>\n      <td>Europe</td>\n      <td>France</td>\n      <td>42.2</td>\n    </tr>\n    <tr>\n      <th>18</th>\n      <td>19</td>\n      <td>Mukesh Ambani</td>\n      <td>60</td>\n      <td>petrochemicals, oil &amp; gas</td>\n      <td>Energy</td>\n      <td>Male</td>\n      <td>Asia</td>\n      <td>India</td>\n      <td>40.1</td>\n    </tr>\n    <tr>\n      <th>19</th>\n      <td>20</td>\n      <td>Jack Ma</td>\n      <td>53</td>\n      <td>e-commerce</td>\n      <td>Technology</td>\n      <td>Male</td>\n      <td>Asia</td>\n      <td>China</td>\n      <td>39.0</td>\n    </tr>\n    <tr>\n      <th>20</th>\n      <td>21</td>\n      <td>Sheldon Adelson</td>\n      <td>84</td>\n      <td>casinos</td>\n      <td>Gambling &amp; Casinos</td>\n      <td>Male</td>\n      <td>North America</td>\n      <td>United States</td>\n      <td>38.5</td>\n    </tr>\n    <tr>\n      <th>21</th>\n      <td>22</td>\n      <td>Steve Ballmer</td>\n      <td>61</td>\n      <td>Microsoft</td>\n      <td>Technology</td>\n      <td>Male</td>\n      <td>North America</td>\n      <td>United States</td>\n      <td>38.4</td>\n    </tr>\n    <tr>\n      <th>22</th>\n      <td>23</td>\n      <td>Li Ka-shing</td>\n      <td>89</td>\n      <td>diversified</td>\n      <td>Diversified</td>\n      <td>Male</td>\n      <td>Asia</td>\n      <td>Hong Kong</td>\n      <td>34.9</td>\n    </tr>\n    <tr>\n      <th>23</th>\n      <td>24</td>\n      <td>Hui Ka Yan</td>\n      <td>59</td>\n      <td>real estate</td>\n      <td>Real Estate</td>\n      <td>Male</td>\n      <td>Asia</td>\n      <td>China</td>\n      <td>30.3</td>\n    </tr>\n    <tr>\n      <th>24</th>\n      <td>24</td>\n      <td>Lee Shau Kee</td>\n      <td>90</td>\n      <td>real estate</td>\n      <td>Real Estate</td>\n      <td>Male</td>\n      <td>Asia</td>\n      <td>Hong Kong</td>\n      <td>30.3</td>\n    </tr>\n  </tbody>\n</table>\n</div>"
     },
     "metadata": {},
     "output_type": "execute_result",
     "execution_count": 40
    }
   ],
   "source": [
    "f_b100[7:25]"
   ]
  },
  {
   "cell_type": "code",
   "execution_count": 40,
   "metadata": {
    "pycharm": {
     "is_executing": false
    }
   },
   "outputs": [],
   "source": []
  },
  {
   "cell_type": "code",
   "execution_count": 41,
   "metadata": {
    "pycharm": {
     "is_executing": false
    }
   },
   "outputs": [
    {
     "data": {
      "text/plain": "                      Rank                                               \\\n                     count        mean        std    min     25%    50%   \nGender Continent                                                          \nFemale Asia            1.0   43.000000        NaN   43.0   43.00   43.0   \n       Europe          3.0   45.333333  35.907288   18.0   25.00   32.0   \n       North America   4.0   47.750000  29.124732   16.0   29.50   46.0   \n       Oceania         1.0   69.000000        NaN   69.0   69.00   69.0   \n       South America   1.0   80.000000        NaN   80.0   80.00   80.0   \nMale   Africa          1.0  100.000000        NaN  100.0  100.00  100.0   \n       Asia           37.0   62.486486  24.814447   17.0   50.00   64.0   \n       Europe         20.0   51.500000  27.335152    4.0   35.50   45.5   \n       North America  30.0   33.300000  27.860676    1.0   10.25   25.0   \n       South America   2.0   32.500000   4.949747   29.0   30.75   32.5   \n\n                                      Age             ...               \\\n                         75%    max count       mean  ...    75%   max   \nGender Continent                                      ...                \nFemale Asia            43.00   43.0   1.0  36.000000  ...  36.00  36.0   \n       Europe          59.00   86.0   3.0  60.666667  ...  63.50  64.0   \n       North America   64.25   83.0   4.0  64.000000  ...  70.50  78.0   \n       Oceania         69.00   69.0   1.0  64.000000  ...  64.00  64.0   \n       South America   80.00   80.0   1.0  75.000000  ...  75.00  75.0   \nMale   Africa         100.00  100.0   1.0  60.000000  ...  60.00  60.0   \n       Asia            82.00   99.0  37.0  66.270270  ...  75.00  94.0   \n       Europe          74.25   97.0  20.0  69.250000  ...  80.25  92.0   \n       North America   51.00   94.0  30.0  67.033333  ...  79.75  87.0   \n       South America   34.25   36.0   2.0  78.500000  ...  78.75  79.0   \n\n                     Net Worth                                             \\\n                         count       mean        std   min     25%    50%   \nGender Continent                                                            \nFemale Asia                1.0  21.900000        NaN  21.9  21.900  21.90   \n       Europe              3.0  27.666667  13.400498  15.8  20.400  25.00   \n       North America       4.0  26.075000  13.657568  15.9  18.075  21.20   \n       Oceania             1.0  17.400000        NaN  17.4  17.400  17.40   \n       South America       1.0  16.300000        NaN  16.3  16.300  16.30   \nMale   Africa              1.0  14.100000        NaN  14.1  14.100  14.10   \n       Asia               37.0  20.832432   7.887862  14.4  16.000  18.00   \n       Europe             20.0  25.425000  16.122128  14.7  16.700  21.05   \n       North America      30.0  40.680000  25.529191  15.0  20.050  34.00   \n       South America       2.0  25.450000   2.757716  23.5  24.475  25.45   \n\n                                     \n                         75%    max  \nGender Continent                     \nFemale Asia           21.900   21.9  \n       Europe         33.600   42.2  \n       North America  29.200   46.0  \n       Oceania        17.400   17.4  \n       South America  16.300   16.3  \nMale   Africa         14.100   14.1  \n       Asia           20.100   45.3  \n       Europe         23.575   72.0  \n       North America  56.375  112.0  \n       South America  26.425   27.4  \n\n[10 rows x 24 columns]",
      "text/html": "<div>\n<style scoped>\n    .dataframe tbody tr th:only-of-type {\n        vertical-align: middle;\n    }\n\n    .dataframe tbody tr th {\n        vertical-align: top;\n    }\n\n    .dataframe thead tr th {\n        text-align: left;\n    }\n\n    .dataframe thead tr:last-of-type th {\n        text-align: right;\n    }\n</style>\n<table border=\"1\" class=\"dataframe\">\n  <thead>\n    <tr>\n      <th></th>\n      <th></th>\n      <th colspan=\"8\" halign=\"left\">Rank</th>\n      <th colspan=\"5\" halign=\"left\">Age</th>\n      <th colspan=\"8\" halign=\"left\">Net Worth</th>\n    </tr>\n    <tr>\n      <th></th>\n      <th></th>\n      <th>count</th>\n      <th>mean</th>\n      <th>std</th>\n      <th>min</th>\n      <th>25%</th>\n      <th>50%</th>\n      <th>75%</th>\n      <th>max</th>\n      <th>count</th>\n      <th>mean</th>\n      <th>...</th>\n      <th>75%</th>\n      <th>max</th>\n      <th>count</th>\n      <th>mean</th>\n      <th>std</th>\n      <th>min</th>\n      <th>25%</th>\n      <th>50%</th>\n      <th>75%</th>\n      <th>max</th>\n    </tr>\n    <tr>\n      <th>Gender</th>\n      <th>Continent</th>\n      <th></th>\n      <th></th>\n      <th></th>\n      <th></th>\n      <th></th>\n      <th></th>\n      <th></th>\n      <th></th>\n      <th></th>\n      <th></th>\n      <th></th>\n      <th></th>\n      <th></th>\n      <th></th>\n      <th></th>\n      <th></th>\n      <th></th>\n      <th></th>\n      <th></th>\n      <th></th>\n      <th></th>\n    </tr>\n  </thead>\n  <tbody>\n    <tr>\n      <th rowspan=\"5\" valign=\"top\">Female</th>\n      <th>Asia</th>\n      <td>1.0</td>\n      <td>43.000000</td>\n      <td>NaN</td>\n      <td>43.0</td>\n      <td>43.00</td>\n      <td>43.0</td>\n      <td>43.00</td>\n      <td>43.0</td>\n      <td>1.0</td>\n      <td>36.000000</td>\n      <td>...</td>\n      <td>36.00</td>\n      <td>36.0</td>\n      <td>1.0</td>\n      <td>21.900000</td>\n      <td>NaN</td>\n      <td>21.9</td>\n      <td>21.900</td>\n      <td>21.90</td>\n      <td>21.900</td>\n      <td>21.9</td>\n    </tr>\n    <tr>\n      <th>Europe</th>\n      <td>3.0</td>\n      <td>45.333333</td>\n      <td>35.907288</td>\n      <td>18.0</td>\n      <td>25.00</td>\n      <td>32.0</td>\n      <td>59.00</td>\n      <td>86.0</td>\n      <td>3.0</td>\n      <td>60.666667</td>\n      <td>...</td>\n      <td>63.50</td>\n      <td>64.0</td>\n      <td>3.0</td>\n      <td>27.666667</td>\n      <td>13.400498</td>\n      <td>15.8</td>\n      <td>20.400</td>\n      <td>25.00</td>\n      <td>33.600</td>\n      <td>42.2</td>\n    </tr>\n    <tr>\n      <th>North America</th>\n      <td>4.0</td>\n      <td>47.750000</td>\n      <td>29.124732</td>\n      <td>16.0</td>\n      <td>29.50</td>\n      <td>46.0</td>\n      <td>64.25</td>\n      <td>83.0</td>\n      <td>4.0</td>\n      <td>64.000000</td>\n      <td>...</td>\n      <td>70.50</td>\n      <td>78.0</td>\n      <td>4.0</td>\n      <td>26.075000</td>\n      <td>13.657568</td>\n      <td>15.9</td>\n      <td>18.075</td>\n      <td>21.20</td>\n      <td>29.200</td>\n      <td>46.0</td>\n    </tr>\n    <tr>\n      <th>Oceania</th>\n      <td>1.0</td>\n      <td>69.000000</td>\n      <td>NaN</td>\n      <td>69.0</td>\n      <td>69.00</td>\n      <td>69.0</td>\n      <td>69.00</td>\n      <td>69.0</td>\n      <td>1.0</td>\n      <td>64.000000</td>\n      <td>...</td>\n      <td>64.00</td>\n      <td>64.0</td>\n      <td>1.0</td>\n      <td>17.400000</td>\n      <td>NaN</td>\n      <td>17.4</td>\n      <td>17.400</td>\n      <td>17.40</td>\n      <td>17.400</td>\n      <td>17.4</td>\n    </tr>\n    <tr>\n      <th>South America</th>\n      <td>1.0</td>\n      <td>80.000000</td>\n      <td>NaN</td>\n      <td>80.0</td>\n      <td>80.00</td>\n      <td>80.0</td>\n      <td>80.00</td>\n      <td>80.0</td>\n      <td>1.0</td>\n      <td>75.000000</td>\n      <td>...</td>\n      <td>75.00</td>\n      <td>75.0</td>\n      <td>1.0</td>\n      <td>16.300000</td>\n      <td>NaN</td>\n      <td>16.3</td>\n      <td>16.300</td>\n      <td>16.30</td>\n      <td>16.300</td>\n      <td>16.3</td>\n    </tr>\n    <tr>\n      <th rowspan=\"5\" valign=\"top\">Male</th>\n      <th>Africa</th>\n      <td>1.0</td>\n      <td>100.000000</td>\n      <td>NaN</td>\n      <td>100.0</td>\n      <td>100.00</td>\n      <td>100.0</td>\n      <td>100.00</td>\n      <td>100.0</td>\n      <td>1.0</td>\n      <td>60.000000</td>\n      <td>...</td>\n      <td>60.00</td>\n      <td>60.0</td>\n      <td>1.0</td>\n      <td>14.100000</td>\n      <td>NaN</td>\n      <td>14.1</td>\n      <td>14.100</td>\n      <td>14.10</td>\n      <td>14.100</td>\n      <td>14.1</td>\n    </tr>\n    <tr>\n      <th>Asia</th>\n      <td>37.0</td>\n      <td>62.486486</td>\n      <td>24.814447</td>\n      <td>17.0</td>\n      <td>50.00</td>\n      <td>64.0</td>\n      <td>82.00</td>\n      <td>99.0</td>\n      <td>37.0</td>\n      <td>66.270270</td>\n      <td>...</td>\n      <td>75.00</td>\n      <td>94.0</td>\n      <td>37.0</td>\n      <td>20.832432</td>\n      <td>7.887862</td>\n      <td>14.4</td>\n      <td>16.000</td>\n      <td>18.00</td>\n      <td>20.100</td>\n      <td>45.3</td>\n    </tr>\n    <tr>\n      <th>Europe</th>\n      <td>20.0</td>\n      <td>51.500000</td>\n      <td>27.335152</td>\n      <td>4.0</td>\n      <td>35.50</td>\n      <td>45.5</td>\n      <td>74.25</td>\n      <td>97.0</td>\n      <td>20.0</td>\n      <td>69.250000</td>\n      <td>...</td>\n      <td>80.25</td>\n      <td>92.0</td>\n      <td>20.0</td>\n      <td>25.425000</td>\n      <td>16.122128</td>\n      <td>14.7</td>\n      <td>16.700</td>\n      <td>21.05</td>\n      <td>23.575</td>\n      <td>72.0</td>\n    </tr>\n    <tr>\n      <th>North America</th>\n      <td>30.0</td>\n      <td>33.300000</td>\n      <td>27.860676</td>\n      <td>1.0</td>\n      <td>10.25</td>\n      <td>25.0</td>\n      <td>51.00</td>\n      <td>94.0</td>\n      <td>30.0</td>\n      <td>67.033333</td>\n      <td>...</td>\n      <td>79.75</td>\n      <td>87.0</td>\n      <td>30.0</td>\n      <td>40.680000</td>\n      <td>25.529191</td>\n      <td>15.0</td>\n      <td>20.050</td>\n      <td>34.00</td>\n      <td>56.375</td>\n      <td>112.0</td>\n    </tr>\n    <tr>\n      <th>South America</th>\n      <td>2.0</td>\n      <td>32.500000</td>\n      <td>4.949747</td>\n      <td>29.0</td>\n      <td>30.75</td>\n      <td>32.5</td>\n      <td>34.25</td>\n      <td>36.0</td>\n      <td>2.0</td>\n      <td>78.500000</td>\n      <td>...</td>\n      <td>78.75</td>\n      <td>79.0</td>\n      <td>2.0</td>\n      <td>25.450000</td>\n      <td>2.757716</td>\n      <td>23.5</td>\n      <td>24.475</td>\n      <td>25.45</td>\n      <td>26.425</td>\n      <td>27.4</td>\n    </tr>\n  </tbody>\n</table>\n<p>10 rows × 24 columns</p>\n</div>"
     },
     "metadata": {},
     "output_type": "execute_result",
     "execution_count": 41
    }
   ],
   "source": [
    "f_b100.groupby(['Gender','Continent']).describe()#.T #count()"
   ]
  },
  {
   "cell_type": "code",
   "execution_count": 41,
   "metadata": {
    "pycharm": {
     "is_executing": false
    }
   },
   "outputs": [],
   "source": []
  }
 ],
 "metadata": {
  "kernelspec": {
   "display_name": "Python 3 (ipykernel)",
   "language": "python",
   "name": "python3"
  },
  "language_info": {
   "codemirror_mode": {
    "name": "ipython",
    "version": 3
   },
   "file_extension": ".py",
   "mimetype": "text/x-python",
   "name": "python",
   "nbconvert_exporter": "python",
   "pygments_lexer": "ipython3",
   "version": "3.9.7"
  },
  "pycharm": {
   "stem_cell": {
    "cell_type": "raw",
    "metadata": {
     "collapsed": false
    },
    "source": []
   }
  }
 },
 "nbformat": 4,
 "nbformat_minor": 1
}